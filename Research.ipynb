{
 "cells": [
  {
   "cell_type": "markdown",
   "metadata": {},
   "source": [
    "# Подготовка данных"
   ]
  },
  {
   "cell_type": "markdown",
   "metadata": {},
   "source": [
    "Импортируем все необходимые библиотеки и считаем все данные для построения рекомендательной системы из полученных файлов."
   ]
  },
  {
   "cell_type": "code",
   "execution_count": 84,
   "metadata": {},
   "outputs": [],
   "source": [
    "import pandas as pd\n",
    "import numpy as np\n",
    "import matplotlib.pyplot as plt\n",
    "import surprise\n",
    "import sklearn \n",
    "%matplotlib inline\n",
    "\n",
    "\n",
    "links = pd.read_csv('links.csv')\n",
    "movies = pd.read_csv('movies.csv')\n",
    "ratings = pd.read_csv('ratings.csv')\n",
    "tags = pd.read_csv('tags.csv')\n",
    "\n"
   ]
  },
  {
   "cell_type": "markdown",
   "metadata": {},
   "source": [
    "Взглянем на то, как выглядят данные."
   ]
  },
  {
   "cell_type": "code",
   "execution_count": 85,
   "metadata": {
    "scrolled": true
   },
   "outputs": [
    {
     "data": {
      "text/html": [
       "<div>\n",
       "<style scoped>\n",
       "    .dataframe tbody tr th:only-of-type {\n",
       "        vertical-align: middle;\n",
       "    }\n",
       "\n",
       "    .dataframe tbody tr th {\n",
       "        vertical-align: top;\n",
       "    }\n",
       "\n",
       "    .dataframe thead th {\n",
       "        text-align: right;\n",
       "    }\n",
       "</style>\n",
       "<table border=\"1\" class=\"dataframe\">\n",
       "  <thead>\n",
       "    <tr style=\"text-align: right;\">\n",
       "      <th></th>\n",
       "      <th>movieId</th>\n",
       "      <th>imdbId</th>\n",
       "      <th>tmdbId</th>\n",
       "    </tr>\n",
       "  </thead>\n",
       "  <tbody>\n",
       "    <tr>\n",
       "      <th>0</th>\n",
       "      <td>1</td>\n",
       "      <td>114709</td>\n",
       "      <td>862.0</td>\n",
       "    </tr>\n",
       "    <tr>\n",
       "      <th>1</th>\n",
       "      <td>2</td>\n",
       "      <td>113497</td>\n",
       "      <td>8844.0</td>\n",
       "    </tr>\n",
       "    <tr>\n",
       "      <th>2</th>\n",
       "      <td>3</td>\n",
       "      <td>113228</td>\n",
       "      <td>15602.0</td>\n",
       "    </tr>\n",
       "    <tr>\n",
       "      <th>3</th>\n",
       "      <td>4</td>\n",
       "      <td>114885</td>\n",
       "      <td>31357.0</td>\n",
       "    </tr>\n",
       "    <tr>\n",
       "      <th>4</th>\n",
       "      <td>5</td>\n",
       "      <td>113041</td>\n",
       "      <td>11862.0</td>\n",
       "    </tr>\n",
       "    <tr>\n",
       "      <th>5</th>\n",
       "      <td>6</td>\n",
       "      <td>113277</td>\n",
       "      <td>949.0</td>\n",
       "    </tr>\n",
       "    <tr>\n",
       "      <th>6</th>\n",
       "      <td>7</td>\n",
       "      <td>114319</td>\n",
       "      <td>11860.0</td>\n",
       "    </tr>\n",
       "    <tr>\n",
       "      <th>7</th>\n",
       "      <td>8</td>\n",
       "      <td>112302</td>\n",
       "      <td>45325.0</td>\n",
       "    </tr>\n",
       "    <tr>\n",
       "      <th>8</th>\n",
       "      <td>9</td>\n",
       "      <td>114576</td>\n",
       "      <td>9091.0</td>\n",
       "    </tr>\n",
       "    <tr>\n",
       "      <th>9</th>\n",
       "      <td>10</td>\n",
       "      <td>113189</td>\n",
       "      <td>710.0</td>\n",
       "    </tr>\n",
       "  </tbody>\n",
       "</table>\n",
       "</div>"
      ],
      "text/plain": [
       "   movieId  imdbId   tmdbId\n",
       "0        1  114709    862.0\n",
       "1        2  113497   8844.0\n",
       "2        3  113228  15602.0\n",
       "3        4  114885  31357.0\n",
       "4        5  113041  11862.0\n",
       "5        6  113277    949.0\n",
       "6        7  114319  11860.0\n",
       "7        8  112302  45325.0\n",
       "8        9  114576   9091.0\n",
       "9       10  113189    710.0"
      ]
     },
     "execution_count": 85,
     "metadata": {},
     "output_type": "execute_result"
    }
   ],
   "source": [
    "links.head(10)\n"
   ]
  },
  {
   "cell_type": "code",
   "execution_count": 86,
   "metadata": {},
   "outputs": [
    {
     "data": {
      "text/html": [
       "<div>\n",
       "<style scoped>\n",
       "    .dataframe tbody tr th:only-of-type {\n",
       "        vertical-align: middle;\n",
       "    }\n",
       "\n",
       "    .dataframe tbody tr th {\n",
       "        vertical-align: top;\n",
       "    }\n",
       "\n",
       "    .dataframe thead th {\n",
       "        text-align: right;\n",
       "    }\n",
       "</style>\n",
       "<table border=\"1\" class=\"dataframe\">\n",
       "  <thead>\n",
       "    <tr style=\"text-align: right;\">\n",
       "      <th></th>\n",
       "      <th>movieId</th>\n",
       "      <th>title</th>\n",
       "      <th>genres</th>\n",
       "    </tr>\n",
       "  </thead>\n",
       "  <tbody>\n",
       "    <tr>\n",
       "      <th>0</th>\n",
       "      <td>1</td>\n",
       "      <td>Toy Story (1995)</td>\n",
       "      <td>Adventure|Animation|Children|Comedy|Fantasy</td>\n",
       "    </tr>\n",
       "    <tr>\n",
       "      <th>1</th>\n",
       "      <td>2</td>\n",
       "      <td>Jumanji (1995)</td>\n",
       "      <td>Adventure|Children|Fantasy</td>\n",
       "    </tr>\n",
       "    <tr>\n",
       "      <th>2</th>\n",
       "      <td>3</td>\n",
       "      <td>Grumpier Old Men (1995)</td>\n",
       "      <td>Comedy|Romance</td>\n",
       "    </tr>\n",
       "    <tr>\n",
       "      <th>3</th>\n",
       "      <td>4</td>\n",
       "      <td>Waiting to Exhale (1995)</td>\n",
       "      <td>Comedy|Drama|Romance</td>\n",
       "    </tr>\n",
       "    <tr>\n",
       "      <th>4</th>\n",
       "      <td>5</td>\n",
       "      <td>Father of the Bride Part II (1995)</td>\n",
       "      <td>Comedy</td>\n",
       "    </tr>\n",
       "    <tr>\n",
       "      <th>5</th>\n",
       "      <td>6</td>\n",
       "      <td>Heat (1995)</td>\n",
       "      <td>Action|Crime|Thriller</td>\n",
       "    </tr>\n",
       "    <tr>\n",
       "      <th>6</th>\n",
       "      <td>7</td>\n",
       "      <td>Sabrina (1995)</td>\n",
       "      <td>Comedy|Romance</td>\n",
       "    </tr>\n",
       "    <tr>\n",
       "      <th>7</th>\n",
       "      <td>8</td>\n",
       "      <td>Tom and Huck (1995)</td>\n",
       "      <td>Adventure|Children</td>\n",
       "    </tr>\n",
       "    <tr>\n",
       "      <th>8</th>\n",
       "      <td>9</td>\n",
       "      <td>Sudden Death (1995)</td>\n",
       "      <td>Action</td>\n",
       "    </tr>\n",
       "    <tr>\n",
       "      <th>9</th>\n",
       "      <td>10</td>\n",
       "      <td>GoldenEye (1995)</td>\n",
       "      <td>Action|Adventure|Thriller</td>\n",
       "    </tr>\n",
       "  </tbody>\n",
       "</table>\n",
       "</div>"
      ],
      "text/plain": [
       "   movieId                               title  \\\n",
       "0        1                    Toy Story (1995)   \n",
       "1        2                      Jumanji (1995)   \n",
       "2        3             Grumpier Old Men (1995)   \n",
       "3        4            Waiting to Exhale (1995)   \n",
       "4        5  Father of the Bride Part II (1995)   \n",
       "5        6                         Heat (1995)   \n",
       "6        7                      Sabrina (1995)   \n",
       "7        8                 Tom and Huck (1995)   \n",
       "8        9                 Sudden Death (1995)   \n",
       "9       10                    GoldenEye (1995)   \n",
       "\n",
       "                                        genres  \n",
       "0  Adventure|Animation|Children|Comedy|Fantasy  \n",
       "1                   Adventure|Children|Fantasy  \n",
       "2                               Comedy|Romance  \n",
       "3                         Comedy|Drama|Romance  \n",
       "4                                       Comedy  \n",
       "5                        Action|Crime|Thriller  \n",
       "6                               Comedy|Romance  \n",
       "7                           Adventure|Children  \n",
       "8                                       Action  \n",
       "9                    Action|Adventure|Thriller  "
      ]
     },
     "execution_count": 86,
     "metadata": {},
     "output_type": "execute_result"
    }
   ],
   "source": [
    "movies.head(10)"
   ]
  },
  {
   "cell_type": "code",
   "execution_count": 87,
   "metadata": {},
   "outputs": [
    {
     "data": {
      "text/html": [
       "<div>\n",
       "<style scoped>\n",
       "    .dataframe tbody tr th:only-of-type {\n",
       "        vertical-align: middle;\n",
       "    }\n",
       "\n",
       "    .dataframe tbody tr th {\n",
       "        vertical-align: top;\n",
       "    }\n",
       "\n",
       "    .dataframe thead th {\n",
       "        text-align: right;\n",
       "    }\n",
       "</style>\n",
       "<table border=\"1\" class=\"dataframe\">\n",
       "  <thead>\n",
       "    <tr style=\"text-align: right;\">\n",
       "      <th></th>\n",
       "      <th>userId</th>\n",
       "      <th>movieId</th>\n",
       "      <th>rating</th>\n",
       "      <th>timestamp</th>\n",
       "    </tr>\n",
       "  </thead>\n",
       "  <tbody>\n",
       "    <tr>\n",
       "      <th>0</th>\n",
       "      <td>1</td>\n",
       "      <td>1</td>\n",
       "      <td>4.0</td>\n",
       "      <td>964982703</td>\n",
       "    </tr>\n",
       "    <tr>\n",
       "      <th>1</th>\n",
       "      <td>1</td>\n",
       "      <td>3</td>\n",
       "      <td>4.0</td>\n",
       "      <td>964981247</td>\n",
       "    </tr>\n",
       "    <tr>\n",
       "      <th>2</th>\n",
       "      <td>1</td>\n",
       "      <td>6</td>\n",
       "      <td>4.0</td>\n",
       "      <td>964982224</td>\n",
       "    </tr>\n",
       "    <tr>\n",
       "      <th>3</th>\n",
       "      <td>1</td>\n",
       "      <td>47</td>\n",
       "      <td>5.0</td>\n",
       "      <td>964983815</td>\n",
       "    </tr>\n",
       "    <tr>\n",
       "      <th>4</th>\n",
       "      <td>1</td>\n",
       "      <td>50</td>\n",
       "      <td>5.0</td>\n",
       "      <td>964982931</td>\n",
       "    </tr>\n",
       "    <tr>\n",
       "      <th>5</th>\n",
       "      <td>1</td>\n",
       "      <td>70</td>\n",
       "      <td>3.0</td>\n",
       "      <td>964982400</td>\n",
       "    </tr>\n",
       "    <tr>\n",
       "      <th>6</th>\n",
       "      <td>1</td>\n",
       "      <td>101</td>\n",
       "      <td>5.0</td>\n",
       "      <td>964980868</td>\n",
       "    </tr>\n",
       "    <tr>\n",
       "      <th>7</th>\n",
       "      <td>1</td>\n",
       "      <td>110</td>\n",
       "      <td>4.0</td>\n",
       "      <td>964982176</td>\n",
       "    </tr>\n",
       "    <tr>\n",
       "      <th>8</th>\n",
       "      <td>1</td>\n",
       "      <td>151</td>\n",
       "      <td>5.0</td>\n",
       "      <td>964984041</td>\n",
       "    </tr>\n",
       "    <tr>\n",
       "      <th>9</th>\n",
       "      <td>1</td>\n",
       "      <td>157</td>\n",
       "      <td>5.0</td>\n",
       "      <td>964984100</td>\n",
       "    </tr>\n",
       "  </tbody>\n",
       "</table>\n",
       "</div>"
      ],
      "text/plain": [
       "   userId  movieId  rating  timestamp\n",
       "0       1        1     4.0  964982703\n",
       "1       1        3     4.0  964981247\n",
       "2       1        6     4.0  964982224\n",
       "3       1       47     5.0  964983815\n",
       "4       1       50     5.0  964982931\n",
       "5       1       70     3.0  964982400\n",
       "6       1      101     5.0  964980868\n",
       "7       1      110     4.0  964982176\n",
       "8       1      151     5.0  964984041\n",
       "9       1      157     5.0  964984100"
      ]
     },
     "execution_count": 87,
     "metadata": {},
     "output_type": "execute_result"
    }
   ],
   "source": [
    "ratings.head(10)"
   ]
  },
  {
   "cell_type": "code",
   "execution_count": 88,
   "metadata": {},
   "outputs": [
    {
     "name": "stdout",
     "output_type": "stream",
     "text": [
      "Уникальных фильмов:\n",
      "9724\n",
      "Уникальных юзеров:\n",
      "610\n"
     ]
    }
   ],
   "source": [
    "print(\"Уникальных фильмов:\")\n",
    "print(len(set(ratings['movieId'])))\n",
    "print(\"Уникальных юзеров:\")\n",
    "print(len(set(ratings['userId'])))"
   ]
  },
  {
   "cell_type": "code",
   "execution_count": 89,
   "metadata": {},
   "outputs": [
    {
     "data": {
      "text/html": [
       "<div>\n",
       "<style scoped>\n",
       "    .dataframe tbody tr th:only-of-type {\n",
       "        vertical-align: middle;\n",
       "    }\n",
       "\n",
       "    .dataframe tbody tr th {\n",
       "        vertical-align: top;\n",
       "    }\n",
       "\n",
       "    .dataframe thead th {\n",
       "        text-align: right;\n",
       "    }\n",
       "</style>\n",
       "<table border=\"1\" class=\"dataframe\">\n",
       "  <thead>\n",
       "    <tr style=\"text-align: right;\">\n",
       "      <th></th>\n",
       "      <th>userId</th>\n",
       "      <th>movieId</th>\n",
       "      <th>tag</th>\n",
       "      <th>timestamp</th>\n",
       "    </tr>\n",
       "  </thead>\n",
       "  <tbody>\n",
       "    <tr>\n",
       "      <th>0</th>\n",
       "      <td>2</td>\n",
       "      <td>60756</td>\n",
       "      <td>funny</td>\n",
       "      <td>1445714994</td>\n",
       "    </tr>\n",
       "    <tr>\n",
       "      <th>1</th>\n",
       "      <td>2</td>\n",
       "      <td>60756</td>\n",
       "      <td>Highly quotable</td>\n",
       "      <td>1445714996</td>\n",
       "    </tr>\n",
       "    <tr>\n",
       "      <th>2</th>\n",
       "      <td>2</td>\n",
       "      <td>60756</td>\n",
       "      <td>will ferrell</td>\n",
       "      <td>1445714992</td>\n",
       "    </tr>\n",
       "    <tr>\n",
       "      <th>3</th>\n",
       "      <td>2</td>\n",
       "      <td>89774</td>\n",
       "      <td>Boxing story</td>\n",
       "      <td>1445715207</td>\n",
       "    </tr>\n",
       "    <tr>\n",
       "      <th>4</th>\n",
       "      <td>2</td>\n",
       "      <td>89774</td>\n",
       "      <td>MMA</td>\n",
       "      <td>1445715200</td>\n",
       "    </tr>\n",
       "    <tr>\n",
       "      <th>5</th>\n",
       "      <td>2</td>\n",
       "      <td>89774</td>\n",
       "      <td>Tom Hardy</td>\n",
       "      <td>1445715205</td>\n",
       "    </tr>\n",
       "    <tr>\n",
       "      <th>6</th>\n",
       "      <td>2</td>\n",
       "      <td>106782</td>\n",
       "      <td>drugs</td>\n",
       "      <td>1445715054</td>\n",
       "    </tr>\n",
       "    <tr>\n",
       "      <th>7</th>\n",
       "      <td>2</td>\n",
       "      <td>106782</td>\n",
       "      <td>Leonardo DiCaprio</td>\n",
       "      <td>1445715051</td>\n",
       "    </tr>\n",
       "    <tr>\n",
       "      <th>8</th>\n",
       "      <td>2</td>\n",
       "      <td>106782</td>\n",
       "      <td>Martin Scorsese</td>\n",
       "      <td>1445715056</td>\n",
       "    </tr>\n",
       "    <tr>\n",
       "      <th>9</th>\n",
       "      <td>7</td>\n",
       "      <td>48516</td>\n",
       "      <td>way too long</td>\n",
       "      <td>1169687325</td>\n",
       "    </tr>\n",
       "  </tbody>\n",
       "</table>\n",
       "</div>"
      ],
      "text/plain": [
       "   userId  movieId                tag   timestamp\n",
       "0       2    60756              funny  1445714994\n",
       "1       2    60756    Highly quotable  1445714996\n",
       "2       2    60756       will ferrell  1445714992\n",
       "3       2    89774       Boxing story  1445715207\n",
       "4       2    89774                MMA  1445715200\n",
       "5       2    89774          Tom Hardy  1445715205\n",
       "6       2   106782              drugs  1445715054\n",
       "7       2   106782  Leonardo DiCaprio  1445715051\n",
       "8       2   106782    Martin Scorsese  1445715056\n",
       "9       7    48516       way too long  1169687325"
      ]
     },
     "execution_count": 89,
     "metadata": {},
     "output_type": "execute_result"
    }
   ],
   "source": [
    "tags.head(10)"
   ]
  },
  {
   "cell_type": "markdown",
   "metadata": {},
   "source": [
    "# Коллаборативная фильтрация\n",
    "Для начала, реализуем наиболее простые методы построения рекомендательных систем. Для этого нам понадобится только информация об оценках пользователей."
   ]
  },
  {
   "cell_type": "markdown",
   "metadata": {},
   "source": [
    "Построим матрицу,каждый элемент [i,j], которой будет содержать информацию о том, как i-тый пользователь оценил j-тый фильм. Однако, так как ID фильмов в данных идет не по порядку, надо их отмасштабировать, для удобства составления матрицы."
   ]
  },
  {
   "cell_type": "code",
   "execution_count": 90,
   "metadata": {},
   "outputs": [],
   "source": [
    "def movie_scale(movie_id):\n",
    "    scaled = np.where(movie_ids == movie_id)[0][0] + 1\n",
    "    return scaled"
   ]
  },
  {
   "cell_type": "code",
   "execution_count": 135,
   "metadata": {},
   "outputs": [],
   "source": [
    "data=ratings.drop('timestamp', axis=1)\n",
    "\n",
    "movie_ids = data['movieId'].unique()\n",
    "data['movieId'] = data['movieId'].apply(movie_scale)"
   ]
  },
  {
   "cell_type": "markdown",
   "metadata": {},
   "source": [
    "Разобьем выборку на обучающую и тестовую, используя модули библиотеки sklearn:"
   ]
  },
  {
   "cell_type": "code",
   "execution_count": 136,
   "metadata": {
    "scrolled": true
   },
   "outputs": [
    {
     "name": "stdout",
     "output_type": "stream",
     "text": [
      "70585 30251\n"
     ]
    }
   ],
   "source": [
    "from sklearn.model_selection import train_test_split\n",
    "\n",
    "(train_data,test_data) = train_test_split(data,test_size=0.3,random_state=0)\n",
    "\n",
    "print(len(train_data),len(test_data))"
   ]
  },
  {
   "cell_type": "markdown",
   "metadata": {},
   "source": [
    "Построим матрицу для обучающего и тестового набора данных."
   ]
  },
  {
   "cell_type": "code",
   "execution_count": 93,
   "metadata": {},
   "outputs": [],
   "source": [
    "n_users = len(data['userId'].unique())\n",
    "n_movies = len(data['movieId'].unique())\n",
    "\n",
    "def matrix_construction(df):\n",
    "    matrix=np.zeros((n_users,n_movies))\n",
    "    for row in df.itertuples():\n",
    "        matrix[row[1]-1][row[2]-1]=row[3]\n",
    "    return matrix\n",
    "\n",
    "test_matrix=matrix_construction(test_data)\n",
    "train_matrix=matrix_construction(train_data)\n"
   ]
  },
  {
   "cell_type": "markdown",
   "metadata": {},
   "source": [
    "Теперь посчитаем косинусное расстояние(меру похожести) для фильмов и пользователей, воспользовавшись готовой реализацией из библиотеки sklearn."
   ]
  },
  {
   "cell_type": "code",
   "execution_count": 94,
   "metadata": {},
   "outputs": [],
   "source": [
    "from  sklearn.metrics.pairwise import pairwise_distances\n",
    "\n",
    "user_similarity = pairwise_distances(train_matrix, metric='cosine')\n",
    "item_similarity = pairwise_distances(train_matrix.T, metric='cosine')"
   ]
  },
  {
   "cell_type": "markdown",
   "metadata": {},
   "source": [
    "Сделаем матрицу train_matrix_mean, где все пропущенные занчения заполнены средним рейтингом каждого itemа, чтобы в дальнейшем использоать ее для обучения. Значения среднего, для фильмов, колторых нет в тестовой выборке возьмем как среднее по всем фильмам."
   ]
  },
  {
   "cell_type": "code",
   "execution_count": 95,
   "metadata": {},
   "outputs": [],
   "source": [
    "train_matrix_mean=pd.DataFrame(np.where(train_matrix==0, np.nan ,train_matrix) )\n",
    "means=train_matrix_mean.mean(skipna=True)\n",
    "average=np.mean(test_data['rating'])\n",
    "means=means.fillna(average)\n",
    "type(train_matrix_mean)\n",
    "train_matrix_mean=train_matrix_mean.fillna(means).to_numpy()"
   ]
  },
  {
   "cell_type": "markdown",
   "metadata": {},
   "source": [
    "Напишем функцию, которая будет считать RMSE, принимаю на вход матрицы похожести."
   ]
  },
  {
   "cell_type": "code",
   "execution_count": 96,
   "metadata": {},
   "outputs": [],
   "source": [
    "from sklearn.metrics import mean_squared_error \n",
    "\n",
    "def rmse(prediction, target):\n",
    "    prediction = prediction[target.nonzero()].flatten()\n",
    "    target = target[target.nonzero()].flatten()\n",
    "    mse = mean_squared_error(prediction, target, squared=False)\n",
    "    return mse"
   ]
  },
  {
   "cell_type": "markdown",
   "metadata": {},
   "source": [
    "Посмотрим, какие результаты дают нам средние рейтинги по каждому фильму, в дальнейшем будем использовать это как baseline:"
   ]
  },
  {
   "cell_type": "code",
   "execution_count": 97,
   "metadata": {
    "scrolled": true
   },
   "outputs": [
    {
     "name": "stdout",
     "output_type": "stream",
     "text": [
      "Baseline:\n",
      "0.9885430039208778\n"
     ]
    }
   ],
   "source": [
    "print(\"Baseline:\")\n",
    "print(rmse(train_matrix_mean,test_matrix))"
   ]
  },
  {
   "attachments": {
    "image.png": {
     "image/png": "[encoded data removed]"
    }
   },
   "cell_type": "markdown",
   "metadata": {},
   "source": [
    "## Рекомендации основанные на среднем рейтинге похожих пользователей/фильмов\n",
    "\n",
    "![image.png](attachment:image.png)\n",
    "\n",
    "    N — количество пользователей, похожих на пользователя u,\n",
    "    U — множество из N похожих пользователей,\n",
    "    u' — пользователь, похожий на пользователя u (из множества U),\n",
    "    r{u',i} — оценка пользователя u' фильму i,\n",
    "    r{u,i} — предсказанная оценка фильма i."
   ]
  },
  {
   "cell_type": "markdown",
   "metadata": {},
   "source": [
    "Реализуем функцию, подсчитывающую предсказания на основе приведенной выше формулы:"
   ]
  },
  {
   "cell_type": "code",
   "execution_count": 16,
   "metadata": {},
   "outputs": [],
   "source": [
    "def predict_user(N):\n",
    "    \n",
    "    #Создадим трехмерный массив для хранения рейтингов наиболее похожих пользователей:\n",
    "    top_similar_ratings = np.zeros((n_users, N, n_movies))\n",
    "    for i in range(n_users):\n",
    "        #Найдем индексы наиболее похожих пользователей, основываясь на ранее посчитаном косинусном расстоянии.\n",
    "        top_similar_users_indexes = user_similarity[i].argsort()[1:N + 1]\n",
    "        #Запишим в наш массив оценки фильмов, которые давали наиболее похожие пользователи:\n",
    "        top_similar_ratings[i] = train_matrix_mean[top_similar_users_indexes]\n",
    "\n",
    "    #Вычислим финальное предсказание для всех фильмов, основываясь на приведенной формуле:\n",
    "    pred = np.zeros((n_users, n_movies))\n",
    "    for i in range(n_users):\n",
    "        pred[i] = top_similar_ratings[i].sum(axis=0) / N\n",
    "    \n",
    "    return pred\n"
   ]
  },
  {
   "cell_type": "markdown",
   "metadata": {},
   "source": [
    "А теперь реализуем такую же функцию, но которая будет предсказывать значение на основе оценок наиболее похожих фильмов, а не пользователей."
   ]
  },
  {
   "cell_type": "code",
   "execution_count": 17,
   "metadata": {},
   "outputs": [],
   "source": [
    "def predict_film(N):\n",
    "    \n",
    "    top_similar_ratings = np.zeros((n_movies, N, n_users))\n",
    "\n",
    "    for i in range(n_movies):\n",
    "        top_similar_movies_indexes = item_similarity[i].argsort()[1:N + 1]\n",
    "        top_similar_ratings[i] =  train_matrix_mean.T[top_similar_movies_indexes]\n",
    "        \n",
    "    pred = np.zeros((n_movies, n_users))\n",
    "    for i in range(n_movies):\n",
    "        pred[i] = top_similar_ratings[i].sum(axis=0) / N\n",
    "    \n",
    "    return pred.T"
   ]
  },
  {
   "cell_type": "markdown",
   "metadata": {},
   "source": [
    "Пронаблюдаем зависимость ошибки от количества ближайших пользователей/фильмов:"
   ]
  },
  {
   "cell_type": "code",
   "execution_count": 18,
   "metadata": {},
   "outputs": [
    {
     "name": "stderr",
     "output_type": "stream",
     "text": [
      "No handles with labels found to put in legend.\n"
     ]
    },
    {
     "data": {
      "text/plain": [
       "<matplotlib.legend.Legend at 0x27fd1d2da00>"
      ]
     },
     "execution_count": 18,
     "metadata": {},
     "output_type": "execute_result"
    },
    {
     "data": {
      "image/png": "[encoded data removed]",
      "text/plain": [
       "<Figure size 432x288 with 1 Axes>"
      ]
     },
     "metadata": {
      "needs_background": "light"
     },
     "output_type": "display_data"
    }
   ],
   "source": [
    "x = np.linspace(5, 100,19)\n",
    "y=[]\n",
    "for i in range(len(x)):\n",
    "    y.append(rmse(predict_film(int(x[i])), test_matrix))\n",
    "    \n",
    "\n",
    "plt.scatter(x, y)\n",
    "plt.ylabel('RMSE')\n",
    "plt.xlabel('Количество ближаших пользователей')\n",
    "plt.legend(loc='best')"
   ]
  },
  {
   "cell_type": "code",
   "execution_count": 19,
   "metadata": {},
   "outputs": [
    {
     "name": "stderr",
     "output_type": "stream",
     "text": [
      "No handles with labels found to put in legend.\n"
     ]
    },
    {
     "data": {
      "text/plain": [
       "<matplotlib.legend.Legend at 0x27fd1c657c0>"
      ]
     },
     "execution_count": 19,
     "metadata": {},
     "output_type": "execute_result"
    },
    {
     "data": {
      "image/png": "[encoded data removed]",
      "text/plain": [
       "<Figure size 432x288 with 1 Axes>"
      ]
     },
     "metadata": {
      "needs_background": "light"
     },
     "output_type": "display_data"
    }
   ],
   "source": [
    "x = np.linspace(5, 100,19)\n",
    "y=[]\n",
    "for i in range(len(x)):\n",
    "    y.append(rmse(predict_user(int(x[i])), test_matrix))\n",
    "    \n",
    "plt.scatter(x, y)\n",
    "plt.ylabel('RMSE')\n",
    "plt.xlabel('Количество ближаших пользователей')\n",
    "plt.legend(loc='best')"
   ]
  },
  {
   "cell_type": "code",
   "execution_count": 20,
   "metadata": {
    "scrolled": true
   },
   "outputs": [
    {
     "name": "stdout",
     "output_type": "stream",
     "text": [
      "Item-based best:\n",
      "0.9851340081860326\n",
      "User-based best:\n",
      "0.9838100789896128\n"
     ]
    }
   ],
   "source": [
    "print(\"Item-based best:\")\n",
    "print(rmse(predict_film(35), test_matrix))\n",
    "print(\"User-based best:\")\n",
    "print(rmse(predict_user(30), test_matrix))"
   ]
  },
  {
   "cell_type": "markdown",
   "metadata": {},
   "source": [
    "## Рекомендации на основе средних оценок похожих пользователей и средих оценок пользователя"
   ]
  },
  {
   "attachments": {
    "image.png": {
     "image/png": "[encoded data removed]"
    }
   },
   "cell_type": "markdown",
   "metadata": {},
   "source": [
    "![image.png](attachment:image.png)\n",
    "r с чертой — средняя оценка соответствующего пользователя\n",
    "\n",
    "simil(u,u*)-коэфицент похожести\n",
    "\n",
    "r{u',i} — оценка пользователя u' фильму i,"
   ]
  },
  {
   "cell_type": "code",
   "execution_count": 24,
   "metadata": {},
   "outputs": [],
   "source": [
    "def predict_user_2(N):\n",
    "    \n",
    "    #Создадим массив для записи индексов наиболее похожих пользователей, а так же массив для записи предсказанных значений :\n",
    "    top_similar_users_indexes = np.zeros((n_users, N))\n",
    "    pred = np.zeros((n_users, n_movies))\n",
    "    #Посчитаем средние оцценки пользователей, основываясь только на тех оценках, которые пользователи ставили сами:\n",
    "    user_means=pd.DataFrame(np.where(train_matrix==0, np.nan ,train_matrix)).mean(axis=1,skipna=True).to_numpy()\n",
    "    \n",
    "    for i in range(n_users):\n",
    "        #Запишем все индексы наиболее похожих пользователей \n",
    "        top_similar_users_indexes[i] = user_similarity[i].argsort()[1:N + 1]\n",
    "        indexes = top_similar_users_indexes[i].astype(np.int)\n",
    "        #Посчитаем все разности оценок пользователя и средних оценко похожих пользователей\n",
    "        diff_ratings = train_matrix_mean[indexes] - train_matrix_mean[indexes].mean()\n",
    "        #Вычислим числитель, скалярно умножив массив всех косинусных расстояний похожих пользователей на полученную ранее разность \n",
    "        numerator =user_similarity[i][indexes].dot(diff_ratings)\n",
    "        #Вычислим знаменатель, проссумироваав все косинусные расстояния \n",
    "        denumerator = user_similarity[i][indexes].sum()\n",
    "        \n",
    "        #Так как по фурмуле у нас может получиться занчение больше 5, заменим все значения больше 5, пятерками.\n",
    "        predicted = user_means[i] + numerator / denumerator\n",
    "        pred[i]=np.where(predicted>5, 5,predicted)\n",
    "            \n",
    "    return pred"
   ]
  },
  {
   "cell_type": "code",
   "execution_count": 25,
   "metadata": {},
   "outputs": [
    {
     "name": "stderr",
     "output_type": "stream",
     "text": [
      "No handles with labels found to put in legend.\n"
     ]
    },
    {
     "data": {
      "text/plain": [
       "<matplotlib.legend.Legend at 0x2ae4a53a250>"
      ]
     },
     "execution_count": 25,
     "metadata": {},
     "output_type": "execute_result"
    },
    {
     "data": {
      "image/png": "[encoded data removed]",
      "text/plain": [
       "<Figure size 432x288 with 1 Axes>"
      ]
     },
     "metadata": {
      "needs_background": "light"
     },
     "output_type": "display_data"
    }
   ],
   "source": [
    "x = np.linspace(5, 100,19)\n",
    "y=[]\n",
    "for i in range(len(x)):\n",
    "    y.append(rmse(predict_user_2(int(x[i])), test_matrix))\n",
    "    \n",
    "plt.scatter(x, y)\n",
    "plt.ylabel('RMSE')\n",
    "plt.xlabel('Количество ближаших пользователей')\n",
    "plt.legend(loc='best')"
   ]
  },
  {
   "cell_type": "code",
   "execution_count": 26,
   "metadata": {},
   "outputs": [
    {
     "name": "stdout",
     "output_type": "stream",
     "text": [
      "User-based best:\n",
      "0.941046234377398\n"
     ]
    }
   ],
   "source": [
    "print(\"User-based best:\")\n",
    "print(rmse(predict_user_2(35), test_matrix))"
   ]
  },
  {
   "cell_type": "markdown",
   "metadata": {},
   "source": [
    "Очевидно, что реализовывать такой же подход для фильмов не имеет смысла, так как мы обучались на массиве, заполненном их  средними оценками."
   ]
  },
  {
   "cell_type": "markdown",
   "metadata": {},
   "source": [
    "# Матричные разложения(SVD)"
   ]
  },
  {
   "cell_type": "markdown",
   "metadata": {},
   "source": [
    "Воспользуемся матричными разложениями. \n",
    "SVD-Singular Vector Decomposition. Где  U - ортогональная левая сингулярная матрица, которая описывает взаимосвязь между пользователями и неявными факторами, S - диагональная матрица, которая описывает вес каждого неявного фактора, а V - это диагональная правая сингулярная матрица, которая указывает на сходство между элементами и невными факторами."
   ]
  },
  {
   "cell_type": "markdown",
   "metadata": {},
   "source": [
    "Напишем функцию, которая будет принимать на вход нашу исходную матрицу, а так же число неявных признаков, которые мы будем учитывать"
   ]
  },
  {
   "cell_type": "code",
   "execution_count": 24,
   "metadata": {},
   "outputs": [],
   "source": [
    "from scipy.linalg import sqrtm\n",
    "\n",
    "def svd(train, k):\n",
    "    # Возьмем стандартную реализацию данного метода из библиотеки Numpy\n",
    "    U, s, V=np.linalg.svd(train, full_matrices=False)\n",
    "    # Сделаем из S диаганальную матрицу \n",
    "    s=np.diag(s)\n",
    "    # выберем только k неявных признаков \n",
    "    s=s[0:k,0:k]\n",
    "    U=U[:,0:k]\n",
    "    V=V[0:k,:]\n",
    "    s_root=sqrtm(s)\n",
    "    Usk=np.dot(U,s_root)\n",
    "    skV=np.dot(s_root,V)\n",
    "    UsV = np.dot(Usk, skV)\n",
    "    return UsV"
   ]
  },
  {
   "cell_type": "code",
   "execution_count": 25,
   "metadata": {},
   "outputs": [
    {
     "name": "stderr",
     "output_type": "stream",
     "text": [
      "No handles with labels found to put in legend.\n"
     ]
    },
    {
     "data": {
      "text/plain": [
       "<matplotlib.legend.Legend at 0x27fd1b72160>"
      ]
     },
     "execution_count": 25,
     "metadata": {},
     "output_type": "execute_result"
    },
    {
     "data": {
      "image/png": "[encoded data removed]",
      "text/plain": [
       "<Figure size 432x288 with 1 Axes>"
      ]
     },
     "metadata": {
      "needs_background": "light"
     },
     "output_type": "display_data"
    }
   ],
   "source": [
    "x = np.linspace(5, 30,25)\n",
    "y=[]\n",
    "for i in range(len(x)):\n",
    "    y.append(rmse(svd(train_matrix_mean,int(x[i])), test_matrix))\n",
    "    \n",
    "plt.scatter(x, y)\n",
    "plt.ylabel('RMSE')\n",
    "plt.xlabel('Количество неявных признаков')\n",
    "plt.legend(loc='best')"
   ]
  },
  {
   "cell_type": "code",
   "execution_count": 26,
   "metadata": {},
   "outputs": [
    {
     "name": "stdout",
     "output_type": "stream",
     "text": [
      "My SVD best:\n",
      "0.9694424095599659\n"
     ]
    }
   ],
   "source": [
    "print(\"My SVD best:\")\n",
    "print(rmse(svd(train_matrix_mean,12), test_matrix))"
   ]
  },
  {
   "cell_type": "markdown",
   "metadata": {},
   "source": [
    "Теперь попробуем уже готовую реализацию SVD из библиотеки surprise c различными параметрами:\n"
   ]
  },
  {
   "cell_type": "code",
   "execution_count": 133,
   "metadata": {},
   "outputs": [
    {
     "name": "stdout",
     "output_type": "stream",
     "text": [
      "0.8627866698519728\n",
      "{'n_factors': 150, 'n_epochs': 30, 'lr_all': 0.01, 'reg_all': 0.1}\n"
     ]
    }
   ],
   "source": [
    "from surprise import SVD\n",
    "from surprise import Dataset\n",
    "from surprise import Reader\n",
    "from surprise.model_selection import GridSearchCV\n",
    "\n",
    "reader = Reader(rating_scale=(1, 5))\n",
    "data = Dataset.load_from_df(data[['userId','movieId','rating']], reader)\n",
    "\n",
    "\n",
    "param_grid = {'n_factors':[50,100,150],'n_epochs':[20,30],  'lr_all':[0.005,0.01],'reg_all':[0.02,0.1]}\n",
    "gs = GridSearchCV(SVD, param_grid, measures=['rmse', 'mae'],refit=True,cv=3)\n",
    "\n",
    "gs.fit(data)\n",
    "\n",
    "print(gs.best_score['rmse'])\n",
    "print(gs.best_params['rmse'])"
   ]
  },
  {
   "cell_type": "code",
   "execution_count": 134,
   "metadata": {},
   "outputs": [
    {
     "data": {
      "text/plain": [
       "3.2521590913864573"
      ]
     },
     "execution_count": 134,
     "metadata": {},
     "output_type": "execute_result"
    }
   ],
   "source": [
    "gs.predict(407,3).est"
   ]
  },
  {
   "cell_type": "markdown",
   "metadata": {},
   "source": [
    "# Выводы"
   ]
  },
  {
   "cell_type": "code",
   "execution_count": 31,
   "metadata": {},
   "outputs": [
    {
     "data": {
      "text/html": [
       "<div>\n",
       "<style scoped>\n",
       "    .dataframe tbody tr th:only-of-type {\n",
       "        vertical-align: middle;\n",
       "    }\n",
       "\n",
       "    .dataframe tbody tr th {\n",
       "        vertical-align: top;\n",
       "    }\n",
       "\n",
       "    .dataframe thead th {\n",
       "        text-align: right;\n",
       "    }\n",
       "</style>\n",
       "<table border=\"1\" class=\"dataframe\">\n",
       "  <thead>\n",
       "    <tr style=\"text-align: right;\">\n",
       "      <th></th>\n",
       "      <th>Method</th>\n",
       "      <th>RMSE_Score</th>\n",
       "    </tr>\n",
       "  </thead>\n",
       "  <tbody>\n",
       "    <tr>\n",
       "      <th>0</th>\n",
       "      <td>Baseline</td>\n",
       "      <td>0.988543</td>\n",
       "    </tr>\n",
       "    <tr>\n",
       "      <th>1</th>\n",
       "      <td>Рекомендации основанные на среднем рейтинге по...</td>\n",
       "      <td>0.985134</td>\n",
       "    </tr>\n",
       "    <tr>\n",
       "      <th>2</th>\n",
       "      <td>Рекомендации основанные на среднем рейтинге по...</td>\n",
       "      <td>0.983810</td>\n",
       "    </tr>\n",
       "    <tr>\n",
       "      <th>3</th>\n",
       "      <td>My SVD</td>\n",
       "      <td>0.969442</td>\n",
       "    </tr>\n",
       "    <tr>\n",
       "      <th>4</th>\n",
       "      <td>Рекомендации на основе средних оценок похожих ...</td>\n",
       "      <td>0.941046</td>\n",
       "    </tr>\n",
       "    <tr>\n",
       "      <th>5</th>\n",
       "      <td>Surprise SVD</td>\n",
       "      <td>0.861764</td>\n",
       "    </tr>\n",
       "  </tbody>\n",
       "</table>\n",
       "</div>"
      ],
      "text/plain": [
       "                                              Method  RMSE_Score\n",
       "0                                           Baseline    0.988543\n",
       "1  Рекомендации основанные на среднем рейтинге по...    0.985134\n",
       "2  Рекомендации основанные на среднем рейтинге по...    0.983810\n",
       "3                                             My SVD    0.969442\n",
       "4  Рекомендации на основе средних оценок похожих ...    0.941046\n",
       "5                                       Surprise SVD    0.861764"
      ]
     },
     "execution_count": 31,
     "metadata": {},
     "output_type": "execute_result"
    }
   ],
   "source": [
    "df = pd.DataFrame({'Method': ['Baseline','Рекомендации основанные на среднем рейтинге похожих фильмов','Рекомендации основанные на среднем рейтинге похожих пользователей','My SVD', 'Рекомендации на основе средних оценок похожих пользователей и средих оценок пользователя','Surprise SVD'], 'RMSE_Score': [0.9885430039208778, 0.9851340081860326,0.9838100789896128,0.9694424095599659,0.941046234377398,0.8617641944266964]})\n",
    "df.head(6)"
   ]
  },
  {
   "cell_type": "markdown",
   "metadata": {},
   "source": [
    "#### Посмотрим, какие фильмы оценил юзер номер 407:"
   ]
  },
  {
   "cell_type": "code",
   "execution_count": 19,
   "metadata": {},
   "outputs": [
    {
     "data": {
      "text/html": [
       "<div>\n",
       "<style scoped>\n",
       "    .dataframe tbody tr th:only-of-type {\n",
       "        vertical-align: middle;\n",
       "    }\n",
       "\n",
       "    .dataframe tbody tr th {\n",
       "        vertical-align: top;\n",
       "    }\n",
       "\n",
       "    .dataframe thead th {\n",
       "        text-align: right;\n",
       "    }\n",
       "</style>\n",
       "<table border=\"1\" class=\"dataframe\">\n",
       "  <thead>\n",
       "    <tr style=\"text-align: right;\">\n",
       "      <th></th>\n",
       "      <th>rating</th>\n",
       "      <th>title</th>\n",
       "    </tr>\n",
       "    <tr>\n",
       "      <th>userId</th>\n",
       "      <th></th>\n",
       "      <th></th>\n",
       "    </tr>\n",
       "  </thead>\n",
       "  <tbody>\n",
       "    <tr>\n",
       "      <th>407</th>\n",
       "      <td>4.0</td>\n",
       "      <td>Star Wars: Episode IV - A New Hope (1977)</td>\n",
       "    </tr>\n",
       "    <tr>\n",
       "      <th>407</th>\n",
       "      <td>3.0</td>\n",
       "      <td>Léon: The Professional (a.k.a. The Professiona...</td>\n",
       "    </tr>\n",
       "    <tr>\n",
       "      <th>407</th>\n",
       "      <td>3.0</td>\n",
       "      <td>Die Hard (1988)</td>\n",
       "    </tr>\n",
       "    <tr>\n",
       "      <th>407</th>\n",
       "      <td>4.0</td>\n",
       "      <td>Star Wars: Episode V - The Empire Strikes Back...</td>\n",
       "    </tr>\n",
       "    <tr>\n",
       "      <th>407</th>\n",
       "      <td>3.0</td>\n",
       "      <td>Terminator, The (1984)</td>\n",
       "    </tr>\n",
       "    <tr>\n",
       "      <th>407</th>\n",
       "      <td>4.0</td>\n",
       "      <td>Indiana Jones and the Last Crusade (1989)</td>\n",
       "    </tr>\n",
       "    <tr>\n",
       "      <th>407</th>\n",
       "      <td>4.0</td>\n",
       "      <td>Saving Private Ryan (1998)</td>\n",
       "    </tr>\n",
       "    <tr>\n",
       "      <th>407</th>\n",
       "      <td>5.0</td>\n",
       "      <td>Matrix, The (1999)</td>\n",
       "    </tr>\n",
       "    <tr>\n",
       "      <th>407</th>\n",
       "      <td>5.0</td>\n",
       "      <td>Fight Club (1999)</td>\n",
       "    </tr>\n",
       "    <tr>\n",
       "      <th>407</th>\n",
       "      <td>5.0</td>\n",
       "      <td>Lord of the Rings: The Fellowship of the Ring,...</td>\n",
       "    </tr>\n",
       "    <tr>\n",
       "      <th>407</th>\n",
       "      <td>5.0</td>\n",
       "      <td>Minority Report (2002)</td>\n",
       "    </tr>\n",
       "    <tr>\n",
       "      <th>407</th>\n",
       "      <td>5.0</td>\n",
       "      <td>Lord of the Rings: The Two Towers, The (2002)</td>\n",
       "    </tr>\n",
       "    <tr>\n",
       "      <th>407</th>\n",
       "      <td>4.0</td>\n",
       "      <td>Pirates of the Caribbean: The Curse of the Bla...</td>\n",
       "    </tr>\n",
       "    <tr>\n",
       "      <th>407</th>\n",
       "      <td>5.0</td>\n",
       "      <td>Lord of the Rings: The Return of the King, The...</td>\n",
       "    </tr>\n",
       "    <tr>\n",
       "      <th>407</th>\n",
       "      <td>3.5</td>\n",
       "      <td>Bourne Ultimatum, The (2007)</td>\n",
       "    </tr>\n",
       "    <tr>\n",
       "      <th>407</th>\n",
       "      <td>5.0</td>\n",
       "      <td>Dark Knight, The (2008)</td>\n",
       "    </tr>\n",
       "    <tr>\n",
       "      <th>407</th>\n",
       "      <td>5.0</td>\n",
       "      <td>Iron Man (2008)</td>\n",
       "    </tr>\n",
       "    <tr>\n",
       "      <th>407</th>\n",
       "      <td>2.5</td>\n",
       "      <td>WALL·E (2008)</td>\n",
       "    </tr>\n",
       "    <tr>\n",
       "      <th>407</th>\n",
       "      <td>3.0</td>\n",
       "      <td>Up (2009)</td>\n",
       "    </tr>\n",
       "    <tr>\n",
       "      <th>407</th>\n",
       "      <td>4.0</td>\n",
       "      <td>How to Train Your Dragon (2010)</td>\n",
       "    </tr>\n",
       "    <tr>\n",
       "      <th>407</th>\n",
       "      <td>3.5</td>\n",
       "      <td>Grand Budapest Hotel, The (2014)</td>\n",
       "    </tr>\n",
       "    <tr>\n",
       "      <th>407</th>\n",
       "      <td>5.0</td>\n",
       "      <td>Gone Girl (2014)</td>\n",
       "    </tr>\n",
       "  </tbody>\n",
       "</table>\n",
       "</div>"
      ],
      "text/plain": [
       "        rating                                              title\n",
       "userId                                                           \n",
       "407        4.0          Star Wars: Episode IV - A New Hope (1977)\n",
       "407        3.0  Léon: The Professional (a.k.a. The Professiona...\n",
       "407        3.0                                    Die Hard (1988)\n",
       "407        4.0  Star Wars: Episode V - The Empire Strikes Back...\n",
       "407        3.0                             Terminator, The (1984)\n",
       "407        4.0          Indiana Jones and the Last Crusade (1989)\n",
       "407        4.0                         Saving Private Ryan (1998)\n",
       "407        5.0                                 Matrix, The (1999)\n",
       "407        5.0                                  Fight Club (1999)\n",
       "407        5.0  Lord of the Rings: The Fellowship of the Ring,...\n",
       "407        5.0                             Minority Report (2002)\n",
       "407        5.0      Lord of the Rings: The Two Towers, The (2002)\n",
       "407        4.0  Pirates of the Caribbean: The Curse of the Bla...\n",
       "407        5.0  Lord of the Rings: The Return of the King, The...\n",
       "407        3.5                       Bourne Ultimatum, The (2007)\n",
       "407        5.0                            Dark Knight, The (2008)\n",
       "407        5.0                                    Iron Man (2008)\n",
       "407        2.5                                      WALL·E (2008)\n",
       "407        3.0                                          Up (2009)\n",
       "407        4.0                    How to Train Your Dragon (2010)\n",
       "407        3.5                   Grand Budapest Hotel, The (2014)\n",
       "407        5.0                                   Gone Girl (2014)"
      ]
     },
     "execution_count": 19,
     "metadata": {},
     "output_type": "execute_result"
    }
   ],
   "source": [
    "user_films=ratings.set_index('userId')\n",
    "user_films=user_films.drop('timestamp', axis=1)\n",
    "user_films=user_films.loc[407]\n",
    "user_films_id=user_films['movieId'].to_numpy()\n",
    "\n",
    "movies_=movies\n",
    "movies_=movies_.set_index('movieId')\n",
    "movies_=movies_.drop('genres', axis=1)\n",
    "movies_=movies_.loc[user_films_id]\n",
    "movies_['title'].to_numpy()\n",
    "\n",
    "user_films.insert(2,\"title\",movies_['title'].to_numpy())\n",
    "user_films=user_films.drop('movieId', axis=1)\n",
    "user_films"
   ]
  },
  {
   "cell_type": "markdown",
   "metadata": {},
   "source": [
    "Видно, что юзеру номер 8 нравятся триллеры, приключения и фентези, а так же,в основном, не нравятся мультики."
   ]
  },
  {
   "cell_type": "markdown",
   "metadata": {},
   "source": [
    "Пронаблюдаем, какие фильмы были бы рекомендованны юзеру 8, каждым из методов:"
   ]
  },
  {
   "cell_type": "code",
   "execution_count": 35,
   "metadata": {},
   "outputs": [],
   "source": [
    "def recomendation(user_num,pred_matrix):\n",
    "    #создадим массив идексов всех не просмотренных фильмов\n",
    "    indexes_zero=np.where(train_matrix[user_num]==0)[0]\n",
    "    #выберем  5 самых высоких оценок не оцененных фильмов и найдем их индексы\n",
    "    pred_indexes=np.argsort(pred_matrix[user_num])\n",
    "    selected_id=[]\n",
    "    for i in range(len(pred_indexes)):\n",
    "        if (len(selected_id)==5):\n",
    "            break\n",
    "        #Будем проверять, есть ли индекс нулевого элемента среди наибольших оценок\n",
    "        if (np.in1d(indexes_zero,pred_indexes[i]).any()==True):\n",
    "            selected_id.append(pred_indexes[i])\n",
    "    selected_id=np.array(selected_id).astype(int)\n",
    "    #Так как мы меняли индексы фильмов,вернемся к изначальным индексам\n",
    "    real_indexes=movie_ids[selected_id]\n",
    "    #выведем названия этих фильмов\n",
    "    movies_pred=movies\n",
    "    movies_pred=movies_pred.set_index('movieId')\n",
    "    movies_pred=movies_pred.drop('genres', axis=1)\n",
    "    \n",
    "    return movies_pred.loc[real_indexes]\n",
    "    "
   ]
  },
  {
   "cell_type": "markdown",
   "metadata": {},
   "source": [
    "### Baseline"
   ]
  },
  {
   "cell_type": "code",
   "execution_count": 31,
   "metadata": {},
   "outputs": [
    {
     "data": {
      "text/html": [
       "<div>\n",
       "<style scoped>\n",
       "    .dataframe tbody tr th:only-of-type {\n",
       "        vertical-align: middle;\n",
       "    }\n",
       "\n",
       "    .dataframe tbody tr th {\n",
       "        vertical-align: top;\n",
       "    }\n",
       "\n",
       "    .dataframe thead th {\n",
       "        text-align: right;\n",
       "    }\n",
       "</style>\n",
       "<table border=\"1\" class=\"dataframe\">\n",
       "  <thead>\n",
       "    <tr style=\"text-align: right;\">\n",
       "      <th></th>\n",
       "      <th>title</th>\n",
       "    </tr>\n",
       "    <tr>\n",
       "      <th>movieId</th>\n",
       "      <th></th>\n",
       "    </tr>\n",
       "  </thead>\n",
       "  <tbody>\n",
       "    <tr>\n",
       "      <th>86068</th>\n",
       "      <td>Films to Keep You Awake: The Christmas Tale (P...</td>\n",
       "    </tr>\n",
       "    <tr>\n",
       "      <th>77427</th>\n",
       "      <td>Human Centipede, The (First Sequence) (2009)</td>\n",
       "    </tr>\n",
       "    <tr>\n",
       "      <th>136297</th>\n",
       "      <td>Mortal Kombat: The Journey Begins (1995)</td>\n",
       "    </tr>\n",
       "    <tr>\n",
       "      <th>8632</th>\n",
       "      <td>Secret Society (2002)</td>\n",
       "    </tr>\n",
       "    <tr>\n",
       "      <th>125221</th>\n",
       "      <td>The Beast of Hollow Mountain (1956)</td>\n",
       "    </tr>\n",
       "  </tbody>\n",
       "</table>\n",
       "</div>"
      ],
      "text/plain": [
       "                                                     title\n",
       "movieId                                                   \n",
       "86068    Films to Keep You Awake: The Christmas Tale (P...\n",
       "77427         Human Centipede, The (First Sequence) (2009)\n",
       "136297            Mortal Kombat: The Journey Begins (1995)\n",
       "8632                                 Secret Society (2002)\n",
       "125221                 The Beast of Hollow Mountain (1956)"
      ]
     },
     "execution_count": 31,
     "metadata": {},
     "output_type": "execute_result"
    }
   ],
   "source": [
    "recomendation(407,train_matrix_mean)"
   ]
  },
  {
   "cell_type": "markdown",
   "metadata": {},
   "source": [
    "### Рекомендации основанные на среднем рейтинге похожих пользователей"
   ]
  },
  {
   "cell_type": "code",
   "execution_count": 32,
   "metadata": {},
   "outputs": [
    {
     "data": {
      "text/html": [
       "<div>\n",
       "<style scoped>\n",
       "    .dataframe tbody tr th:only-of-type {\n",
       "        vertical-align: middle;\n",
       "    }\n",
       "\n",
       "    .dataframe tbody tr th {\n",
       "        vertical-align: top;\n",
       "    }\n",
       "\n",
       "    .dataframe thead th {\n",
       "        text-align: right;\n",
       "    }\n",
       "</style>\n",
       "<table border=\"1\" class=\"dataframe\">\n",
       "  <thead>\n",
       "    <tr style=\"text-align: right;\">\n",
       "      <th></th>\n",
       "      <th>title</th>\n",
       "    </tr>\n",
       "    <tr>\n",
       "      <th>movieId</th>\n",
       "      <th></th>\n",
       "    </tr>\n",
       "  </thead>\n",
       "  <tbody>\n",
       "    <tr>\n",
       "      <th>152079</th>\n",
       "      <td>London Has Fallen (2016)</td>\n",
       "    </tr>\n",
       "    <tr>\n",
       "      <th>144352</th>\n",
       "      <td>Unforgiven (2013)</td>\n",
       "    </tr>\n",
       "    <tr>\n",
       "      <th>92681</th>\n",
       "      <td>Journey 2: The Mysterious Island (2012)</td>\n",
       "    </tr>\n",
       "    <tr>\n",
       "      <th>173307</th>\n",
       "      <td>The Gracefield Incident (2015)</td>\n",
       "    </tr>\n",
       "    <tr>\n",
       "      <th>157172</th>\n",
       "      <td>Wizards of the Lost Kingdom II (1989)</td>\n",
       "    </tr>\n",
       "  </tbody>\n",
       "</table>\n",
       "</div>"
      ],
      "text/plain": [
       "                                           title\n",
       "movieId                                         \n",
       "152079                  London Has Fallen (2016)\n",
       "144352                         Unforgiven (2013)\n",
       "92681    Journey 2: The Mysterious Island (2012)\n",
       "173307            The Gracefield Incident (2015)\n",
       "157172     Wizards of the Lost Kingdom II (1989)"
      ]
     },
     "execution_count": 32,
     "metadata": {},
     "output_type": "execute_result"
    }
   ],
   "source": [
    "recomendation(407,predict_user(30))"
   ]
  },
  {
   "cell_type": "markdown",
   "metadata": {},
   "source": [
    "### Рекомендации основанные на среднем рейтинге похожих фильмов"
   ]
  },
  {
   "cell_type": "code",
   "execution_count": 33,
   "metadata": {},
   "outputs": [
    {
     "data": {
      "text/html": [
       "<div>\n",
       "<style scoped>\n",
       "    .dataframe tbody tr th:only-of-type {\n",
       "        vertical-align: middle;\n",
       "    }\n",
       "\n",
       "    .dataframe tbody tr th {\n",
       "        vertical-align: top;\n",
       "    }\n",
       "\n",
       "    .dataframe thead th {\n",
       "        text-align: right;\n",
       "    }\n",
       "</style>\n",
       "<table border=\"1\" class=\"dataframe\">\n",
       "  <thead>\n",
       "    <tr style=\"text-align: right;\">\n",
       "      <th></th>\n",
       "      <th>title</th>\n",
       "    </tr>\n",
       "    <tr>\n",
       "      <th>movieId</th>\n",
       "      <th></th>\n",
       "    </tr>\n",
       "  </thead>\n",
       "  <tbody>\n",
       "    <tr>\n",
       "      <th>7030</th>\n",
       "      <td>Radio Flyer (1992)</td>\n",
       "    </tr>\n",
       "    <tr>\n",
       "      <th>2038</th>\n",
       "      <td>Cat from Outer Space, The (1978)</td>\n",
       "    </tr>\n",
       "    <tr>\n",
       "      <th>1083</th>\n",
       "      <td>Great Race, The (1965)</td>\n",
       "    </tr>\n",
       "    <tr>\n",
       "      <th>102880</th>\n",
       "      <td>After Earth (2013)</td>\n",
       "    </tr>\n",
       "    <tr>\n",
       "      <th>8387</th>\n",
       "      <td>Police Academy: Mission to Moscow (1994)</td>\n",
       "    </tr>\n",
       "  </tbody>\n",
       "</table>\n",
       "</div>"
      ],
      "text/plain": [
       "                                            title\n",
       "movieId                                          \n",
       "7030                           Radio Flyer (1992)\n",
       "2038             Cat from Outer Space, The (1978)\n",
       "1083                       Great Race, The (1965)\n",
       "102880                         After Earth (2013)\n",
       "8387     Police Academy: Mission to Moscow (1994)"
      ]
     },
     "execution_count": 33,
     "metadata": {},
     "output_type": "execute_result"
    }
   ],
   "source": [
    "recomendation(407,predict_film(35))"
   ]
  },
  {
   "cell_type": "markdown",
   "metadata": {},
   "source": [
    "### My SVD"
   ]
  },
  {
   "cell_type": "code",
   "execution_count": 34,
   "metadata": {},
   "outputs": [
    {
     "data": {
      "text/html": [
       "<div>\n",
       "<style scoped>\n",
       "    .dataframe tbody tr th:only-of-type {\n",
       "        vertical-align: middle;\n",
       "    }\n",
       "\n",
       "    .dataframe tbody tr th {\n",
       "        vertical-align: top;\n",
       "    }\n",
       "\n",
       "    .dataframe thead th {\n",
       "        text-align: right;\n",
       "    }\n",
       "</style>\n",
       "<table border=\"1\" class=\"dataframe\">\n",
       "  <thead>\n",
       "    <tr style=\"text-align: right;\">\n",
       "      <th></th>\n",
       "      <th>title</th>\n",
       "    </tr>\n",
       "    <tr>\n",
       "      <th>movieId</th>\n",
       "      <th></th>\n",
       "    </tr>\n",
       "  </thead>\n",
       "  <tbody>\n",
       "    <tr>\n",
       "      <th>76030</th>\n",
       "      <td>Case 39 (2009)</td>\n",
       "    </tr>\n",
       "    <tr>\n",
       "      <th>109897</th>\n",
       "      <td>Son of God (2014)</td>\n",
       "    </tr>\n",
       "    <tr>\n",
       "      <th>92681</th>\n",
       "      <td>Journey 2: The Mysterious Island (2012)</td>\n",
       "    </tr>\n",
       "    <tr>\n",
       "      <th>77798</th>\n",
       "      <td>Nightmare on Elm Street, A (2010)</td>\n",
       "    </tr>\n",
       "    <tr>\n",
       "      <th>137517</th>\n",
       "      <td>Carnival Magic (1981)</td>\n",
       "    </tr>\n",
       "  </tbody>\n",
       "</table>\n",
       "</div>"
      ],
      "text/plain": [
       "                                           title\n",
       "movieId                                         \n",
       "76030                             Case 39 (2009)\n",
       "109897                         Son of God (2014)\n",
       "92681    Journey 2: The Mysterious Island (2012)\n",
       "77798          Nightmare on Elm Street, A (2010)\n",
       "137517                     Carnival Magic (1981)"
      ]
     },
     "execution_count": 34,
     "metadata": {},
     "output_type": "execute_result"
    }
   ],
   "source": [
    "recomendation(407,svd(train_matrix_mean,12))"
   ]
  },
  {
   "cell_type": "markdown",
   "metadata": {},
   "source": [
    "### Рекомендации основанные на среднем рейтинге похожих пользователей"
   ]
  },
  {
   "cell_type": "code",
   "execution_count": 35,
   "metadata": {},
   "outputs": [
    {
     "data": {
      "text/html": [
       "<div>\n",
       "<style scoped>\n",
       "    .dataframe tbody tr th:only-of-type {\n",
       "        vertical-align: middle;\n",
       "    }\n",
       "\n",
       "    .dataframe tbody tr th {\n",
       "        vertical-align: top;\n",
       "    }\n",
       "\n",
       "    .dataframe thead th {\n",
       "        text-align: right;\n",
       "    }\n",
       "</style>\n",
       "<table border=\"1\" class=\"dataframe\">\n",
       "  <thead>\n",
       "    <tr style=\"text-align: right;\">\n",
       "      <th></th>\n",
       "      <th>title</th>\n",
       "    </tr>\n",
       "    <tr>\n",
       "      <th>movieId</th>\n",
       "      <th></th>\n",
       "    </tr>\n",
       "  </thead>\n",
       "  <tbody>\n",
       "    <tr>\n",
       "      <th>61818</th>\n",
       "      <td>Crow, The: Wicked Prayer (2005)</td>\n",
       "    </tr>\n",
       "    <tr>\n",
       "      <th>4412</th>\n",
       "      <td>Thing with Two Heads, The (1972)</td>\n",
       "    </tr>\n",
       "    <tr>\n",
       "      <th>77798</th>\n",
       "      <td>Nightmare on Elm Street, A (2010)</td>\n",
       "    </tr>\n",
       "    <tr>\n",
       "      <th>5672</th>\n",
       "      <td>Pokemon 4 Ever (a.k.a. Pokémon 4: The Movie) (...</td>\n",
       "    </tr>\n",
       "    <tr>\n",
       "      <th>82095</th>\n",
       "      <td>Skyline (2010)</td>\n",
       "    </tr>\n",
       "  </tbody>\n",
       "</table>\n",
       "</div>"
      ],
      "text/plain": [
       "                                                     title\n",
       "movieId                                                   \n",
       "61818                      Crow, The: Wicked Prayer (2005)\n",
       "4412                      Thing with Two Heads, The (1972)\n",
       "77798                    Nightmare on Elm Street, A (2010)\n",
       "5672     Pokemon 4 Ever (a.k.a. Pokémon 4: The Movie) (...\n",
       "82095                                       Skyline (2010)"
      ]
     },
     "execution_count": 35,
     "metadata": {},
     "output_type": "execute_result"
    }
   ],
   "source": [
    "recomendation(407,predict_user_2(35))"
   ]
  },
  {
   "cell_type": "markdown",
   "metadata": {},
   "source": [
    "### Surprise SVD"
   ]
  },
  {
   "cell_type": "code",
   "execution_count": 139,
   "metadata": {},
   "outputs": [],
   "source": [
    "def recomendation_surp(user_num):\n",
    "    #получим оценки \n",
    "    y = []\n",
    "    for i,row in test_data.iterrows():\n",
    "        y.append(gs.predict(row['userId'], row['movieId']).est)\n",
    "    #создадим массив идексов всех не просмотренных фильмов\n",
    "    indexes_zero=np.where(train_matrix[user_num]==0)[0]\n",
    "    #выберем  5 самых высоких оценок не оцененных фильмов и найдем их индексы\n",
    "    pred_indexes=np.argsort(y)\n",
    "    selected_id=[]\n",
    "    for i in range(len(pred_indexes)):\n",
    "        if (len(selected_id)==5):\n",
    "            break\n",
    "        #Будем проверять, есть ли индекс нулевого элемента среди наибольших оценок\n",
    "        if (np.in1d(indexes_zero,pred_indexes[i]).any()==True):\n",
    "            selected_id.append(pred_indexes[i])\n",
    "    selected_id=np.array(selected_id).astype(int)\n",
    "    #Так как мы меняли индексы фильмов,вернемся к изначальным индексам\n",
    "    real_indexes=movie_ids[selected_id]\n",
    "    #выведем названия этих фильмов\n",
    "    movies_pred=movies\n",
    "    movies_pred=movies_pred.set_index('movieId')\n",
    "    movies_pred=movies_pred.drop('genres', axis=1)\n",
    "    \n",
    "    return movies_pred.loc[real_indexes]"
   ]
  },
  {
   "cell_type": "code",
   "execution_count": 140,
   "metadata": {},
   "outputs": [
    {
     "data": {
      "text/html": [
       "<div>\n",
       "<style scoped>\n",
       "    .dataframe tbody tr th:only-of-type {\n",
       "        vertical-align: middle;\n",
       "    }\n",
       "\n",
       "    .dataframe tbody tr th {\n",
       "        vertical-align: top;\n",
       "    }\n",
       "\n",
       "    .dataframe thead th {\n",
       "        text-align: right;\n",
       "    }\n",
       "</style>\n",
       "<table border=\"1\" class=\"dataframe\">\n",
       "  <thead>\n",
       "    <tr style=\"text-align: right;\">\n",
       "      <th></th>\n",
       "      <th>title</th>\n",
       "    </tr>\n",
       "    <tr>\n",
       "      <th>movieId</th>\n",
       "      <th></th>\n",
       "    </tr>\n",
       "  </thead>\n",
       "  <tbody>\n",
       "    <tr>\n",
       "      <th>100068</th>\n",
       "      <td>Comme un chef (2012)</td>\n",
       "    </tr>\n",
       "    <tr>\n",
       "      <th>7705</th>\n",
       "      <td>Pat and Mike (1952)</td>\n",
       "    </tr>\n",
       "    <tr>\n",
       "      <th>7348</th>\n",
       "      <td>Spartan (2004)</td>\n",
       "    </tr>\n",
       "    <tr>\n",
       "      <th>7707</th>\n",
       "      <td>He Said, She Said (1991)</td>\n",
       "    </tr>\n",
       "    <tr>\n",
       "      <th>103245</th>\n",
       "      <td>Adam and Eve (National Lampoon's Adam &amp; Eve) (...</td>\n",
       "    </tr>\n",
       "  </tbody>\n",
       "</table>\n",
       "</div>"
      ],
      "text/plain": [
       "                                                     title\n",
       "movieId                                                   \n",
       "100068                                Comme un chef (2012)\n",
       "7705                                   Pat and Mike (1952)\n",
       "7348                                        Spartan (2004)\n",
       "7707                              He Said, She Said (1991)\n",
       "103245   Adam and Eve (National Lampoon's Adam & Eve) (..."
      ]
     },
     "execution_count": 140,
     "metadata": {},
     "output_type": "execute_result"
    }
   ],
   "source": [
    "recomendation_surp(407)"
   ]
  },
  {
   "cell_type": "markdown",
   "metadata": {},
   "source": [
    "# Content based рекомендации "
   ]
  },
  {
   "cell_type": "markdown",
   "metadata": {},
   "source": [
    "Представим названия в виде векторов используя TF-IDF."
   ]
  },
  {
   "cell_type": "code",
   "execution_count": 10,
   "metadata": {},
   "outputs": [],
   "source": [
    "from sklearn.feature_extraction.text import TfidfVectorizer\n",
    "from sklearn.metrics.pairwise import linear_kernel\n",
    "\n",
    "tfidf = TfidfVectorizer(stop_words='english')\n",
    "overview_matrix = tfidf.fit_transform(movies['title']).toarray()"
   ]
  },
  {
   "cell_type": "markdown",
   "metadata": {},
   "source": [
    "Напишем функцию, выдающую рекомендации для юзера, проссумируя все возможные фильмы с коэфицентами, равными оценке фильма, а затем на количество оцененных фильмов:"
   ]
  },
  {
   "cell_type": "code",
   "execution_count": 28,
   "metadata": {},
   "outputs": [],
   "source": [
    "from scipy.spatial.distance import cosine\n",
    "\n",
    "def recomedation_content_based(user_ID):\n",
    "    #создадим массивы рейтингов и идексов всех просмотренных фильмов\n",
    "    user_films=ratings.set_index('userId')\n",
    "    user_films=user_films.drop('timestamp', axis=1)\n",
    "    user_films=user_films.loc[user_ID]\n",
    "    film_ratings=user_films['rating'].to_numpy()\n",
    "    film_ids=user_films['movieId'].to_numpy()\n",
    "    #Перейдем от Id фильмов к их индексам в матрице TF-IDF\n",
    "    matrix_index=movies[movies['movieId'].isin(film_ids)].index.to_numpy()\n",
    "    # вычислим вектор юзера:\n",
    "    summ=0\n",
    "    for i in range(len(matrix_index)):\n",
    "        summ+=film_ratings[i]*overview_matrix[matrix_index[i]]\n",
    "    user_vector=summ\n",
    "    #вычислим косинусное расстояние до каждого фильма, и порекоменюдуем ближайшие 5 фильмов \n",
    "    sim=[]\n",
    "    for i in range(len(overview_matrix)):\n",
    "        sim.append(cosine(user_vector,overview_matrix[i]))  \n",
    "    # Будем рекомендовать только из не просмотренных, поэтому выставим у всех не просмотренных фильмов значение 2:\n",
    "    for i in range(len(matrix_index)):\n",
    "        sim[matrix_index[i]]=2\n",
    "    top_sim_index=np.argsort(sim)[:5]\n",
    "    \n",
    "    return movies.loc[top_sim_index]\n"
   ]
  },
  {
   "cell_type": "code",
   "execution_count": 29,
   "metadata": {},
   "outputs": [
    {
     "data": {
      "text/html": [
       "<div>\n",
       "<style scoped>\n",
       "    .dataframe tbody tr th:only-of-type {\n",
       "        vertical-align: middle;\n",
       "    }\n",
       "\n",
       "    .dataframe tbody tr th {\n",
       "        vertical-align: top;\n",
       "    }\n",
       "\n",
       "    .dataframe thead th {\n",
       "        text-align: right;\n",
       "    }\n",
       "</style>\n",
       "<table border=\"1\" class=\"dataframe\">\n",
       "  <thead>\n",
       "    <tr style=\"text-align: right;\">\n",
       "      <th></th>\n",
       "      <th>movieId</th>\n",
       "      <th>title</th>\n",
       "      <th>genres</th>\n",
       "    </tr>\n",
       "  </thead>\n",
       "  <tbody>\n",
       "    <tr>\n",
       "      <th>1577</th>\n",
       "      <td>2116</td>\n",
       "      <td>Lord of the Rings, The (1978)</td>\n",
       "      <td>Adventure|Animation|Children|Fantasy</td>\n",
       "    </tr>\n",
       "    <tr>\n",
       "      <th>9155</th>\n",
       "      <td>147936</td>\n",
       "      <td>The Lord's Lantern in Budapest (1999)</td>\n",
       "      <td>Comedy|Drama</td>\n",
       "    </tr>\n",
       "    <tr>\n",
       "      <th>6866</th>\n",
       "      <td>62437</td>\n",
       "      <td>W. (2008)</td>\n",
       "      <td>Drama</td>\n",
       "    </tr>\n",
       "    <tr>\n",
       "      <th>6711</th>\n",
       "      <td>58627</td>\n",
       "      <td>Never Back Down (2008)</td>\n",
       "      <td>Action</td>\n",
       "    </tr>\n",
       "    <tr>\n",
       "      <th>5985</th>\n",
       "      <td>36529</td>\n",
       "      <td>Lord of War (2005)</td>\n",
       "      <td>Action|Crime|Drama|Thriller|War</td>\n",
       "    </tr>\n",
       "  </tbody>\n",
       "</table>\n",
       "</div>"
      ],
      "text/plain": [
       "      movieId                                  title  \\\n",
       "1577     2116          Lord of the Rings, The (1978)   \n",
       "9155   147936  The Lord's Lantern in Budapest (1999)   \n",
       "6866    62437                              W. (2008)   \n",
       "6711    58627                 Never Back Down (2008)   \n",
       "5985    36529                     Lord of War (2005)   \n",
       "\n",
       "                                    genres  \n",
       "1577  Adventure|Animation|Children|Fantasy  \n",
       "9155                          Comedy|Drama  \n",
       "6866                                 Drama  \n",
       "6711                                Action  \n",
       "5985       Action|Crime|Drama|Thriller|War  "
      ]
     },
     "execution_count": 29,
     "metadata": {},
     "output_type": "execute_result"
    }
   ],
   "source": [
    "recomedation_content_based(407)"
   ]
  },
  {
   "cell_type": "markdown",
   "metadata": {},
   "source": [
    "Видно, что данные рекомендации подходят нашему пользователю, так как он высоко оценил остальные части Властелина Колец. Однако порекомендовались фильмы со словом lord в названии, хотя они совсем не похожи на Властелина колец."
   ]
  },
  {
   "cell_type": "markdown",
   "metadata": {},
   "source": [
    "# Popularity based"
   ]
  },
  {
   "cell_type": "markdown",
   "metadata": {},
   "source": [
    "Будем рекомендовать юзеру наиболее популярные айтемы, которые он не смотрел."
   ]
  },
  {
   "cell_type": "code",
   "execution_count": 353,
   "metadata": {},
   "outputs": [],
   "source": [
    "def recomedation_popularity_based(user_ID):\n",
    "    # Для начала посчитаем вес каждого фильма, сложив все рейтинги.\n",
    "    Ratings=ratings.set_index('movieId')\n",
    "    summ=[]\n",
    "    for i in range(len(movie_ids)):\n",
    "        summ.append(Ratings.loc[movie_ids[i]]['rating'].sum())\n",
    "    #Теперь пронаблюдаем какие фильмы пользователь уже смотрел, чтобы не рекомендовать ему то же самое.\n",
    "    #Для этого выставим у просмотренных фильмов рейтинг 0 \n",
    "    watched=Ratings[Ratings['userId']==user_ID].index.to_numpy().astype(int)\n",
    "    for i in range(len(watched)):\n",
    "        summ[int(np.where(movie_ids==watched[i])[0])]=0\n",
    "    top=np.array(summ).argsort()[::-1]\n",
    "    #Теперь перейдем к movieID\n",
    "    real_indexes=movie_ids[top[:5]]\n",
    "    #выведем названия этих фильмов\n",
    "    movies_pred=movies\n",
    "    movies_pred=movies_pred.set_index('movieId')\n",
    "    movies_pred=movies_pred.drop('genres', axis=1)\n",
    "    return movies_pred.loc[real_indexes]"
   ]
  },
  {
   "cell_type": "code",
   "execution_count": 354,
   "metadata": {},
   "outputs": [
    {
     "data": {
      "text/html": [
       "<div>\n",
       "<style scoped>\n",
       "    .dataframe tbody tr th:only-of-type {\n",
       "        vertical-align: middle;\n",
       "    }\n",
       "\n",
       "    .dataframe tbody tr th {\n",
       "        vertical-align: top;\n",
       "    }\n",
       "\n",
       "    .dataframe thead th {\n",
       "        text-align: right;\n",
       "    }\n",
       "</style>\n",
       "<table border=\"1\" class=\"dataframe\">\n",
       "  <thead>\n",
       "    <tr style=\"text-align: right;\">\n",
       "      <th></th>\n",
       "      <th>title</th>\n",
       "    </tr>\n",
       "    <tr>\n",
       "      <th>movieId</th>\n",
       "      <th></th>\n",
       "    </tr>\n",
       "  </thead>\n",
       "  <tbody>\n",
       "    <tr>\n",
       "      <th>318</th>\n",
       "      <td>Shawshank Redemption, The (1994)</td>\n",
       "    </tr>\n",
       "    <tr>\n",
       "      <th>356</th>\n",
       "      <td>Forrest Gump (1994)</td>\n",
       "    </tr>\n",
       "    <tr>\n",
       "      <th>296</th>\n",
       "      <td>Pulp Fiction (1994)</td>\n",
       "    </tr>\n",
       "    <tr>\n",
       "      <th>593</th>\n",
       "      <td>Silence of the Lambs, The (1991)</td>\n",
       "    </tr>\n",
       "    <tr>\n",
       "      <th>110</th>\n",
       "      <td>Braveheart (1995)</td>\n",
       "    </tr>\n",
       "  </tbody>\n",
       "</table>\n",
       "</div>"
      ],
      "text/plain": [
       "                                    title\n",
       "movieId                                  \n",
       "318      Shawshank Redemption, The (1994)\n",
       "356                   Forrest Gump (1994)\n",
       "296                   Pulp Fiction (1994)\n",
       "593      Silence of the Lambs, The (1991)\n",
       "110                     Braveheart (1995)"
      ]
     },
     "execution_count": 354,
     "metadata": {},
     "output_type": "execute_result"
    }
   ],
   "source": [
    "recomedation_popularity_based(407)"
   ]
  },
  {
   "cell_type": "markdown",
   "metadata": {},
   "source": [
    "Видно, что наши рекомендации верны, так как эти фильмы всегда находятся в топе."
   ]
  }
 ],
 "metadata": {
  "kernelspec": {
   "display_name": "Python 3",
   "language": "python",
   "name": "python3"
  },
  "language_info": {
   "codemirror_mode": {
    "name": "ipython",
    "version": 3
   },
   "file_extension": ".py",
   "mimetype": "text/x-python",
   "name": "python",
   "nbconvert_exporter": "python",
   "pygments_lexer": "ipython3",
   "version": "3.8.5"
  }
 },
 "nbformat": 4,
 "nbformat_minor": 4
}
